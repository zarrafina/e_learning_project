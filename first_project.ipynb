{
 "cells": [
  {
   "cell_type": "code",
   "execution_count": 38,
   "metadata": {},
   "outputs": [],
   "source": [
    "import pandas as pd\n",
    "import seaborn as sns\n",
    "import matplotlib.pyplot as plt\n",
    "import gspread\n",
    "from df2gspread import df2gspread as d2g\n",
    "from oauth2client.service_account import ServiceAccountCredentials"
   ]
  },
  {
   "cell_type": "code",
   "execution_count": 35,
   "metadata": {},
   "outputs": [],
   "source": [
    "scope = ['https://spreadsheets.google.com/feeds',\n",
    "         'https://www.googleapis.com/auth/drive']\n",
    "\n",
    "my_mail = 'bar.zar.1566@gmail.com'\n",
    "path_to_credentials = '/mnt/HC_Volume_18315164/home-jupyter/jupyter-z-baranchieva/untitled_folder/final_project/myfinalproject-430306-7d590752618f.json'\n",
    "credentials = ServiceAccountCredentials.from_json_keyfile_name(path_to_credentials, scope)\n",
    "gs = gspread.authorize(credentials)"
   ]
  },
  {
   "cell_type": "code",
   "execution_count": 2,
   "metadata": {},
   "outputs": [],
   "source": [
    "sns.set(\n",
    "    font_scale =2,\n",
    "    style      =\"whitegrid\",\n",
    "    rc         ={'figure.figsize':(20,7)}\n",
    ")"
   ]
  },
  {
   "cell_type": "code",
   "execution_count": 36,
   "metadata": {},
   "outputs": [],
   "source": [
    "def df_from_google (table_name):\n",
    "    work_sheet = gs.open(table_name)\n",
    "    sheet1 = work_sheet.sheet1\n",
    "    data = sheet1.get_all_values()\n",
    "    headers = data.pop(0)\n",
    "    df = pd.DataFrame(data, columns=headers)\n",
    "    return df"
   ]
  },
  {
   "cell_type": "code",
   "execution_count": 37,
   "metadata": {},
   "outputs": [],
   "source": [
    "assessments = df_from_google('assessments')\n",
    "courses = df_from_google('courses')\n",
    "studentRegistration = df_from_google('studentRegistration')\n",
    "studentAssessment = df_from_google('studentAssessment')"
   ]
  },
  {
   "cell_type": "markdown",
   "metadata": {},
   "source": [
    "# Предварительный анализ данных\n",
    "\n",
    "- overall_weight_assessments - общее кол-во баллов, которое можно получить в течении семестра по каждому виду теста\n",
    "- student_assessments_with_courses - процент и финальный балл, заработанный каждым студентом и соответствующий тест\n",
    "- student_assessments_with_courses_and_weight - общий балл, заработанный каждым студентом в течении семестра и соответствующий курс\n",
    "- amount_of_students_and_courses_all_semesters - кол-во студентов и соответствующее кол-во курсов,взятое в течении всех 4 семестров\n",
    "- amount_of_students_and_courses_per_one_semester - кол-во курсов, которое брали студенты в рамках одного семестра"
   ]
  },
  {
   "cell_type": "code",
   "execution_count": null,
   "metadata": {},
   "outputs": [],
   "source": [
    "student_assessments_with_courses = studentAssessment.merge(assessments, how='left', on=['id_assessment'])\n",
    "\n",
    "# Так как перезачет (is_banked) это дублирование уже имеющихся данных, отбросим их, чтобы не было повтора\n",
    "studentAssessment = studentAssessment.query(\"is_banked == 0\")"
   ]
  },
  {
   "cell_type": "markdown",
   "metadata": {},
   "source": [
    "Общее кол-во баллов, которое можно заработать в течении семестра - 200 (100 - за тесты в течении семестра(СМА + ТМА), 100 - за финальный экзамен(Exam)). По курсу ССС суммарный балл - 300, т.к. по этому предмету проводится 2 экзамена"
   ]
  },
  {
   "cell_type": "code",
   "execution_count": 5,
   "metadata": {},
   "outputs": [],
   "source": [
    "overall_weight_assessments = assessments.groupby(['code_module', 'code_presentation', 'assessment_type'], as_index = False).agg({'weight':'sum'})\n",
    "overall_weight_assessments = overall_weight_assessments.pivot(index = ['code_module', 'code_presentation'], columns = 'assessment_type', values = 'weight').reset_index().fillna(0)\n",
    "overall_weight_assessments ['sum_weight'] = overall_weight_assessments.CMA + overall_weight_assessments.TMA + overall_weight_assessments.Exam"
   ]
  },
  {
   "cell_type": "markdown",
   "metadata": {},
   "source": [
    "Пересчитаем процентный показатель экзамена, полученный студентом, в баллы. weight - это максимальный балл за данный конкретный тест, score - процент, полученный студентом за этот тест. Найдем конечную оценку за тест (например, студент с id 11391 сдал тест TMA по предмету AAA на 78%. Максимальный балл за этот тест - 10, соответственно студент заработал 7.8 балла)"
   ]
  },
  {
   "cell_type": "code",
   "execution_count": 7,
   "metadata": {},
   "outputs": [],
   "source": [
    "student_assessments_with_courses ['final_score'] = student_assessments_with_courses.score * student_assessments_with_courses.weight / 100"
   ]
  },
  {
   "cell_type": "markdown",
   "metadata": {},
   "source": [
    "Посчитаем общий балл по каждому тесту для каждого студента. Для некоторых студентов weight (максимальное кол-во баллов, которое можно получить в рамках курса) меньше ста, потому что они не отправили тест на проверку. В связи с этим соединим таблицу с данными об общем кол-ве баллов, которые можно  получить за семестр"
   ]
  },
  {
   "cell_type": "code",
   "execution_count": 8,
   "metadata": {},
   "outputs": [],
   "source": [
    "student_assessments_with_courses_and_weight = student_assessments_with_courses.groupby(['id_student', 'code_presentation','code_module', 'assessment_type'], as_index = False).agg({'final_score':'sum'})\n",
    "student_assessments_with_courses_and_weight = student_assessments_with_courses_and_weight.pivot(index = ['id_student', 'code_presentation', 'code_module'], columns = 'assessment_type', values = 'final_score').fillna(0).reset_index()\n",
    "student_assessments_with_courses_and_weight = student_assessments_with_courses_and_weight.rename(columns = {'CMA':'CMA_final', 'Exam':'Exam_final', 'TMA':'TMA_final'})\n",
    "student_assessments_with_courses_and_weight = student_assessments_with_courses_and_weight.merge(overall_weight_assessments, how='left', on=['code_presentation', 'code_module'])\n",
    "student_assessments_with_courses_and_weight ['CMA_TMA_sum'] = student_assessments_with_courses_and_weight.CMA_final + student_assessments_with_courses_and_weight.TMA_final\n",
    "student_assessments_with_courses_and_weight ['final_sum'] = student_assessments_with_courses_and_weight.CMA_TMA_sum + student_assessments_with_courses_and_weight.Exam_final"
   ]
  },
  {
   "cell_type": "markdown",
   "metadata": {},
   "source": [
    "Посчитаем кол-во курсов,взятое в течении всех 4 семестров и соответствующей процент студентов"
   ]
  },
  {
   "cell_type": "code",
   "execution_count": 12,
   "metadata": {},
   "outputs": [],
   "source": [
    "amount_of_students_and_courses_all_semesters = student_assessments_with_courses_and_weight.groupby('id_student').agg({'code_module':'count'}).reset_index()\n",
    "amount_of_students_and_courses_all_semesters = amount_of_students_and_courses_all_semesters.groupby('code_module').agg({'id_student':'count'}).reset_index()\n",
    "amount_of_students_and_courses_all_semesters = amount_of_students_and_courses_all_semesters.rename(columns = {'code_module':'amount_of_courses', 'id_student':'amount_of_students'})\n",
    "amount_of_students_and_courses_all_semesters ['%'] = round((amount_of_students_and_courses_all_semesters.amount_of_students * 100 / amount_of_students_and_courses_all_semesters.amount_of_students.sum()), 2)"
   ]
  },
  {
   "cell_type": "markdown",
   "metadata": {},
   "source": [
    "Посчитаем кол-во курсов, которое брали студенты в рамках одного семестра"
   ]
  },
  {
   "cell_type": "code",
   "execution_count": 13,
   "metadata": {},
   "outputs": [],
   "source": [
    "amount_of_students_and_courses_per_one_semester = student_assessments_with_courses_and_weight.groupby(['id_student','code_presentation']).agg({'code_module':'count'}).reset_index()\n",
    "amount_of_students_and_courses_per_one_semester = amount_of_students_and_courses_per_one_semester.groupby(['code_module', 'code_presentation']).agg({'id_student':'count'}).reset_index()\n",
    "amount_of_students_and_courses_per_one_semester = amount_of_students_and_courses_per_one_semester.rename(columns = {'code_module':'amount_of_courses', 'id_student':'amount_of_students'})\n",
    "amount_of_students_and_courses_per_one_semester ['%'] = round((amount_of_students_and_courses_per_one_semester.amount_of_students * 100 / amount_of_students_and_courses_per_one_semester.amount_of_students.sum()), 2)"
   ]
  },
  {
   "cell_type": "markdown",
   "metadata": {},
   "source": [
    "# Вывод"
   ]
  },
  {
   "cell_type": "markdown",
   "metadata": {},
   "source": [
    "- За все время большая часть студентов (90.59 %) проходит обучение только по 1 предмету\n",
    "- Продолжительность обучения одному предмету за один семестр составляет в среднем 8-9 месяцев, что в теории может соответствовать продолжительности курса\n",
    "- За один семестр каждый студент берет 1 (~ 97%) или 2 предмета\n",
    "- Соответственно курсом мы можем считать каждый отдельный предмет (вне зависимости от семестра). Всего имеется 6 курсов - AAA, BBB, CCC, DDD, EEE, FFF\n",
    "- Всего имеется 4 семестра - 2013J, 2013B, 2014J, 2014B. Будем считать их потоками\n",
    "- При этом у каждого курса имеется разное кол-во потоков. Расчет будет проводиться на общее кол-во студентов в курсе во всех потоках\n",
    "- В предмете GGG отсутствуют баллы, соответственно за курс его не засчитываем"
   ]
  },
  {
   "cell_type": "code",
   "execution_count": null,
   "metadata": {},
   "outputs": [],
   "source": []
  },
  {
   "cell_type": "markdown",
   "metadata": {},
   "source": [
    "Отбросим ненужные данные, оставим только информацию касательно экзаменов. На данном этапе вернемся к таблице overall_weight_assessments, где обозначено, что по каждому курсу (предмету) имеется экзамен, вес которого составляет 100 (в случае ССС - 200). Как видно, в таблице student_assessments_with_courses тип теста Exam  встречается только у курсов ССС и DDD. Соответственно, в остальных курсах имеется необходимость обозначить, что является экзаменом. Как правило, экзамены всегда сдают в конце обучения, поэтому будем считать, что каждый крайний по дате тест и является экзаменом. Найдем эти даты. Также имеется отдельный экзамен (Exam) по курсу ССС, который оценивается в 100 баллов. Такое положение соответствует таблице overall_weight_assessments, поэтому в расчетах этого курса будем учитывать оба экзамена"
   ]
  },
  {
   "cell_type": "markdown",
   "metadata": {},
   "source": [
    "# Дни проведения финального экзамена (от начала семестра) по каждому курсу\n",
    "\n",
    "- курс ААА - 215 день\n",
    "- курс BBB - 201 день (семестр 2014J), 187 день (семестр 2013B), 208 день (семестр 2013J), 194 день (семестр 2014B) \n",
    "- курс CCC - 207 день (семестр 2014J), 187 день (семестр 2013B), 208 день (семестр 2013J), 200 день (семестр 2014B) \n",
    "- курс DDD - 195 день (семестр 2014J), 240 день (семестр 2013B), 261 день (семестр 2013J), 241 день (семестр 2014B) \n",
    "- курс EEE - 152, 159, 166 дни\n",
    "- курс FFF - 199 день (семестр 2014J), 166 день (семестр 2013B), 173 день (семестр 2013J), 171 день (семестр 2014B) "
   ]
  },
  {
   "cell_type": "code",
   "execution_count": 14,
   "metadata": {},
   "outputs": [
    {
     "data": {
      "text/html": [
       "<div>\n",
       "<style scoped>\n",
       "    .dataframe tbody tr th:only-of-type {\n",
       "        vertical-align: middle;\n",
       "    }\n",
       "\n",
       "    .dataframe tbody tr th {\n",
       "        vertical-align: top;\n",
       "    }\n",
       "\n",
       "    .dataframe thead th {\n",
       "        text-align: right;\n",
       "    }\n",
       "</style>\n",
       "<table border=\"1\" class=\"dataframe\">\n",
       "  <thead>\n",
       "    <tr style=\"text-align: right;\">\n",
       "      <th></th>\n",
       "      <th>code_presentation</th>\n",
       "      <th>weight</th>\n",
       "      <th>date</th>\n",
       "      <th>id_student</th>\n",
       "    </tr>\n",
       "  </thead>\n",
       "  <tbody>\n",
       "    <tr>\n",
       "      <th>0</th>\n",
       "      <td>2013B</td>\n",
       "      <td>0.0</td>\n",
       "      <td>222.0</td>\n",
       "      <td>6681</td>\n",
       "    </tr>\n",
       "    <tr>\n",
       "      <th>1</th>\n",
       "      <td>2013B</td>\n",
       "      <td>12.5</td>\n",
       "      <td>19.0</td>\n",
       "      <td>1361</td>\n",
       "    </tr>\n",
       "    <tr>\n",
       "      <th>2</th>\n",
       "      <td>2013B</td>\n",
       "      <td>12.5</td>\n",
       "      <td>47.0</td>\n",
       "      <td>1231</td>\n",
       "    </tr>\n",
       "    <tr>\n",
       "      <th>3</th>\n",
       "      <td>2013B</td>\n",
       "      <td>25.0</td>\n",
       "      <td>89.0</td>\n",
       "      <td>1076</td>\n",
       "    </tr>\n",
       "    <tr>\n",
       "      <th>4</th>\n",
       "      <td>2013B</td>\n",
       "      <td>25.0</td>\n",
       "      <td>131.0</td>\n",
       "      <td>975</td>\n",
       "    </tr>\n",
       "    <tr>\n",
       "      <th>5</th>\n",
       "      <td>2013B</td>\n",
       "      <td>25.0</td>\n",
       "      <td>166.0</td>\n",
       "      <td>871</td>\n",
       "    </tr>\n",
       "    <tr>\n",
       "      <th>6</th>\n",
       "      <td>2013J</td>\n",
       "      <td>0.0</td>\n",
       "      <td>236.0</td>\n",
       "      <td>8847</td>\n",
       "    </tr>\n",
       "    <tr>\n",
       "      <th>7</th>\n",
       "      <td>2013J</td>\n",
       "      <td>12.5</td>\n",
       "      <td>19.0</td>\n",
       "      <td>1859</td>\n",
       "    </tr>\n",
       "    <tr>\n",
       "      <th>8</th>\n",
       "      <td>2013J</td>\n",
       "      <td>12.5</td>\n",
       "      <td>47.0</td>\n",
       "      <td>1661</td>\n",
       "    </tr>\n",
       "    <tr>\n",
       "      <th>9</th>\n",
       "      <td>2013J</td>\n",
       "      <td>25.0</td>\n",
       "      <td>96.0</td>\n",
       "      <td>1402</td>\n",
       "    </tr>\n",
       "    <tr>\n",
       "      <th>10</th>\n",
       "      <td>2013J</td>\n",
       "      <td>25.0</td>\n",
       "      <td>131.0</td>\n",
       "      <td>1313</td>\n",
       "    </tr>\n",
       "    <tr>\n",
       "      <th>11</th>\n",
       "      <td>2013J</td>\n",
       "      <td>25.0</td>\n",
       "      <td>173.0</td>\n",
       "      <td>1158</td>\n",
       "    </tr>\n",
       "    <tr>\n",
       "      <th>12</th>\n",
       "      <td>2014B</td>\n",
       "      <td>0.0</td>\n",
       "      <td>227.0</td>\n",
       "      <td>5549</td>\n",
       "    </tr>\n",
       "    <tr>\n",
       "      <th>13</th>\n",
       "      <td>2014B</td>\n",
       "      <td>12.5</td>\n",
       "      <td>24.0</td>\n",
       "      <td>1192</td>\n",
       "    </tr>\n",
       "    <tr>\n",
       "      <th>14</th>\n",
       "      <td>2014B</td>\n",
       "      <td>12.5</td>\n",
       "      <td>52.0</td>\n",
       "      <td>1055</td>\n",
       "    </tr>\n",
       "    <tr>\n",
       "      <th>15</th>\n",
       "      <td>2014B</td>\n",
       "      <td>25.0</td>\n",
       "      <td>87.0</td>\n",
       "      <td>881</td>\n",
       "    </tr>\n",
       "    <tr>\n",
       "      <th>16</th>\n",
       "      <td>2014B</td>\n",
       "      <td>25.0</td>\n",
       "      <td>129.0</td>\n",
       "      <td>804</td>\n",
       "    </tr>\n",
       "    <tr>\n",
       "      <th>17</th>\n",
       "      <td>2014B</td>\n",
       "      <td>25.0</td>\n",
       "      <td>171.0</td>\n",
       "      <td>715</td>\n",
       "    </tr>\n",
       "    <tr>\n",
       "      <th>18</th>\n",
       "      <td>2014J</td>\n",
       "      <td>0.0</td>\n",
       "      <td>241.0</td>\n",
       "      <td>8915</td>\n",
       "    </tr>\n",
       "    <tr>\n",
       "      <th>19</th>\n",
       "      <td>2014J</td>\n",
       "      <td>12.5</td>\n",
       "      <td>24.0</td>\n",
       "      <td>1826</td>\n",
       "    </tr>\n",
       "    <tr>\n",
       "      <th>20</th>\n",
       "      <td>2014J</td>\n",
       "      <td>12.5</td>\n",
       "      <td>52.0</td>\n",
       "      <td>1601</td>\n",
       "    </tr>\n",
       "    <tr>\n",
       "      <th>21</th>\n",
       "      <td>2014J</td>\n",
       "      <td>25.0</td>\n",
       "      <td>94.0</td>\n",
       "      <td>1398</td>\n",
       "    </tr>\n",
       "    <tr>\n",
       "      <th>22</th>\n",
       "      <td>2014J</td>\n",
       "      <td>25.0</td>\n",
       "      <td>136.0</td>\n",
       "      <td>1307</td>\n",
       "    </tr>\n",
       "    <tr>\n",
       "      <th>23</th>\n",
       "      <td>2014J</td>\n",
       "      <td>25.0</td>\n",
       "      <td>199.0</td>\n",
       "      <td>1137</td>\n",
       "    </tr>\n",
       "  </tbody>\n",
       "</table>\n",
       "</div>"
      ],
      "text/plain": [
       "   code_presentation  weight   date  id_student\n",
       "0              2013B     0.0  222.0        6681\n",
       "1              2013B    12.5   19.0        1361\n",
       "2              2013B    12.5   47.0        1231\n",
       "3              2013B    25.0   89.0        1076\n",
       "4              2013B    25.0  131.0         975\n",
       "5              2013B    25.0  166.0         871\n",
       "6              2013J     0.0  236.0        8847\n",
       "7              2013J    12.5   19.0        1859\n",
       "8              2013J    12.5   47.0        1661\n",
       "9              2013J    25.0   96.0        1402\n",
       "10             2013J    25.0  131.0        1313\n",
       "11             2013J    25.0  173.0        1158\n",
       "12             2014B     0.0  227.0        5549\n",
       "13             2014B    12.5   24.0        1192\n",
       "14             2014B    12.5   52.0        1055\n",
       "15             2014B    25.0   87.0         881\n",
       "16             2014B    25.0  129.0         804\n",
       "17             2014B    25.0  171.0         715\n",
       "18             2014J     0.0  241.0        8915\n",
       "19             2014J    12.5   24.0        1826\n",
       "20             2014J    12.5   52.0        1601\n",
       "21             2014J    25.0   94.0        1398\n",
       "22             2014J    25.0  136.0        1307\n",
       "23             2014J    25.0  199.0        1137"
      ]
     },
     "execution_count": 14,
     "metadata": {},
     "output_type": "execute_result"
    }
   ],
   "source": [
    "student_assessments_with_courses.query(\"code_module == 'AAA'\").groupby(['code_presentation','weight', 'date'], as_index = False).agg({'id_student':'count'})\n",
    "student_assessments_with_courses.query(\"code_module == 'BBB'\").groupby(['code_presentation','weight', 'date'], as_index = False).agg({'id_student':'count'})\n",
    "student_assessments_with_courses.query(\"code_module == 'CCC'\").groupby(['code_presentation','weight', 'date'], as_index = False).agg({'id_student':'count'})\n",
    "student_assessments_with_courses.query(\"code_module == 'CCC' & assessment_type == 'Exam'\").agg({'id_student':'count'})\n",
    "student_assessments_with_courses.query(\"code_module == 'DDD'\").groupby(['code_presentation','weight', 'date'], as_index = False).agg({'id_student':'count'})\n",
    "student_assessments_with_courses.query(\"code_module == 'EEE'\").groupby(['code_presentation','weight', 'date'], as_index = False).agg({'id_student':'count'})\n",
    "student_assessments_with_courses.query(\"code_module == 'FFF'\").groupby(['code_presentation','weight', 'date'], as_index = False).agg({'id_student':'count'})"
   ]
  },
  {
   "cell_type": "markdown",
   "metadata": {},
   "source": [
    "Отфильтруем значения по курсу и дате, оставим только те, которые соответствуют экзаменам"
   ]
  },
  {
   "cell_type": "code",
   "execution_count": 15,
   "metadata": {},
   "outputs": [],
   "source": [
    "aaa = student_assessments_with_courses.query(\"code_module == 'AAA' & date == 215\")\n",
    "bbb_1 = student_assessments_with_courses.query(\"code_module == 'BBB' & date == 187\")\n",
    "bbb_2 = student_assessments_with_courses.query(\"code_module == 'BBB' & date == 194\")\n",
    "bbb_3 = student_assessments_with_courses.query(\"code_module == 'BBB' & date == 201\")\n",
    "bbb_4 = student_assessments_with_courses.query(\"code_module == 'BBB' & date == 208\")\n",
    "ccc_1 = student_assessments_with_courses.query(\"code_module == 'ССС' & date == 200\")\n",
    "ccc_2 = student_assessments_with_courses.query(\"code_module == 'CCC' & date == 207\")\n",
    "ccc_3 = student_assessments_with_courses.query(\"code_module == 'CCC' & assessment_type == 'Exam'\")\n",
    "ddd_1 = student_assessments_with_courses.query(\"code_module == 'DDD' & date == 195\")\n",
    "ddd_2 = student_assessments_with_courses.query(\"code_module == 'DDD' & date == 240\")\n",
    "ddd_3 = student_assessments_with_courses.query(\"code_module == 'DDD' & date == 241\")\n",
    "ddd_4 = student_assessments_with_courses.query(\"code_module == 'DDD' & date == 261\")\n",
    "eee_1 = student_assessments_with_courses.query(\"code_module == 'EEE' & date == 152\")\n",
    "eee_2 = student_assessments_with_courses.query(\"code_module == 'EEE' & date == 159\")\n",
    "eee_3 = student_assessments_with_courses.query(\"code_module == 'EEE' & date == 166\")\n",
    "fff_1 = student_assessments_with_courses.query(\"code_module == 'FFF' & date == 166\")\n",
    "fff_2 = student_assessments_with_courses.query(\"code_module == 'FFF' & date == 171\")\n",
    "fff_3 = student_assessments_with_courses.query(\"code_module == 'FFF' & date == 173\")\n",
    "fff_4 = student_assessments_with_courses.query(\"code_module == 'FFF' & date == 199\")\n",
    "all_courses_exam = pd.concat([aaa,  bbb_1, bbb_2, bbb_3, bbb_4, ccc_1, ccc_2, ccc_3, ddd_1, ddd_2, ddd_3, ddd_4, eee_1, eee_2, eee_3, fff_1, fff_2, fff_3, fff_4])"
   ]
  },
  {
   "cell_type": "markdown",
   "metadata": {},
   "source": [
    "Найдем успешно сданные экзамены. Экзамен сдан успешно в том случае, когда scorе превышает 40%"
   ]
  },
  {
   "cell_type": "code",
   "execution_count": 16,
   "metadata": {},
   "outputs": [],
   "source": [
    "successful_exam = all_courses_exam.query('score > 40')"
   ]
  },
  {
   "cell_type": "code",
   "execution_count": null,
   "metadata": {},
   "outputs": [],
   "source": []
  },
  {
   "cell_type": "markdown",
   "metadata": {},
   "source": [
    "# Задачи"
   ]
  },
  {
   "cell_type": "markdown",
   "metadata": {},
   "source": [
    "# 1. Сколько студентов успешно сдали только один курс?\n",
    "\n",
    "Ответ - 9679"
   ]
  },
  {
   "cell_type": "code",
   "execution_count": 17,
   "metadata": {},
   "outputs": [
    {
     "data": {
      "text/plain": [
       "id_student    9679\n",
       "dtype: int64"
      ]
     },
     "execution_count": 17,
     "metadata": {},
     "output_type": "execute_result"
    }
   ],
   "source": [
    "task_1 = successful_exam.groupby(['id_student'], as_index = False).agg({'code_module':'count'})\n",
    "task_1.query(\"code_module == 1\").agg({'id_student':'count'})"
   ]
  },
  {
   "cell_type": "markdown",
   "metadata": {},
   "source": [
    "# 2. Выяви самый сложный и самый простой экзамен: найди курсы и экзамены в рамках курса, которые обладают самой низкой и самой высокой завершаемостью\n",
    "\n",
    "Самым сложным экзаменом является экзамен по курсу DDD c ID 25340 и с завершаемостью 79.40%, \n",
    "\n",
    "Самым простым экзаменом является экзамен по курсу BBB c ID 15001 и с завершаемостью 97.67%"
   ]
  },
  {
   "cell_type": "code",
   "execution_count": 20,
   "metadata": {},
   "outputs": [],
   "source": [
    "# кол-во успешных экзаменов\n",
    "task_2_success = successful_exam.groupby(['id_assessment', 'code_module', 'code_presentation'], as_index = False).agg({'id_student':'count'})\n",
    "task_2_success = task_2_success.rename(columns = {'id_student':'successed_students'})\n",
    "\n",
    "# кол-во всех попыток сдать экзамен\n",
    "task_2_all = all_courses_exam.groupby(['id_assessment', 'code_module', 'code_presentation'], as_index = False).agg({'id_student':'count'})\n",
    "task_2_all = task_2_all.rename(columns = {'id_student':'all_students'})\n",
    "\n",
    "\n",
    "task_2 = task_2_success.merge(task_2_all, how='left', on=['id_assessment'])\n",
    "task_2 ['successfully_completed_courses'] = round((task_2.successed_students * 100 / task_2.all_students), 2)\n",
    "task_2 = task_2.sort_values('successfully_completed_courses')"
   ]
  },
  {
   "cell_type": "markdown",
   "metadata": {},
   "source": [
    "# 3. По каждому предмету определи средний срок сдачи экзаменов. Под сдачей понимаем последнее успешное прохождение экзамена студентом\n",
    "\n",
    "cамые быстрые сроки сдачи экзаменов наблюдаются по курсам EEE (160.56), FFF (177.71) и BBB (198.89)\n",
    "\n",
    "cамые долгие сроки сдачи экзаменов наблюдаются по курсам AAA (214.85), DDD (223.45) и CCC (224.02)"
   ]
  },
  {
   "cell_type": "code",
   "execution_count": 22,
   "metadata": {},
   "outputs": [],
   "source": [
    "task_3 = successful_exam.groupby(['code_module'], as_index = False).agg({'date_submitted':'mean'}).sort_values('date_submitted')"
   ]
  },
  {
   "cell_type": "markdown",
   "metadata": {},
   "source": [
    "# 4. Выяви самые популярные предметы (ТОП-3) по количеству регистраций на них. А также предметы с самым большим оттоком (ТОП-3)\n",
    "\n",
    "самые популярные предметы (ТОП-3) по количеству регистраций на них - BBB, FFF, DDD\n",
    "\n",
    "предметы с самым большим оттоком (ТОП-3) - FFF, DDD, CCC"
   ]
  },
  {
   "cell_type": "code",
   "execution_count": 23,
   "metadata": {},
   "outputs": [],
   "source": [
    "studentRegistration = studentRegistration.fillna(0)\n",
    "top_3_popular = studentRegistration.query(\"date_unregistration == 0\").groupby(['code_module'], as_index = False).agg({'id_student':'count'}).sort_values('id_student', ascending = False).head(3)\n",
    "top_3_unregistered = studentRegistration.query(\"date_unregistration > 0\").groupby(['code_module'], as_index = False).agg({'id_student':'count'}).sort_values('id_student', ascending = False).head(3)"
   ]
  },
  {
   "cell_type": "markdown",
   "metadata": {},
   "source": [
    "# 5. В период с начала 2013 по конец 2014 выяви семестр с самой низкой завершаемостью курсов и самыми долгими средними сроками сдачи курсов\n",
    "\n",
    "Самые долгие сроки сдачи экзаменов наблюдаются в семестре 2014J, при этом различий в завершаемости курсов \n",
    "по семестрам не наблюдается"
   ]
  },
  {
   "cell_type": "code",
   "execution_count": 24,
   "metadata": {},
   "outputs": [],
   "source": [
    "# кол-во успешных экзаменов\n",
    "task_5_success = successful_exam.groupby(['code_presentation'], as_index = False).agg({'id_student':'count'})\n",
    "task_5_success = task_5_success.rename(columns = {'id_student':'successed_students'})\n",
    "\n",
    "# кол-во всех попыток сдать экзамен\n",
    "task_5_all = all_courses_exam.groupby(['code_presentation'], as_index = False).agg({'id_student':'count'})\n",
    "task_5_all = task_5_all.rename(columns = {'id_student':'all_students'})\n",
    "\n",
    "task_5_1= task_5_success.merge(task_5_all, how='left', on=['code_presentation'])\n",
    "task_5_1 ['successfully_completed_courses'] = round((task_5_1.successed_students * 100 / task_5_1.all_students), 2)\n",
    "\n",
    "task_5_2 = successful_exam.groupby(['code_presentation'], as_index = False).agg({'date_submitted':'mean'})"
   ]
  },
  {
   "cell_type": "markdown",
   "metadata": {},
   "source": [
    "# 6. Построй адаптированные RFM-кластеры студентов, чтобы качественно оценить свою аудиторию\n",
    "В адаптированной кластеризации можешь выбрать следующие метрики: R - среднее время сдачи одного экзамена, F - завершаемость курсов, M - среднее количество баллов, получаемое за экзамен. Подробно опиши, как ты создавал кластеры. Для каждого RFM-сегмента построй границы метрик recency, frequency и monetary для интерпретации этих кластеров"
   ]
  },
  {
   "cell_type": "code",
   "execution_count": 25,
   "metadata": {},
   "outputs": [],
   "source": [
    "# найдем R - среднее время сдачи одного экзамена\n",
    "R = successful_exam.groupby(['id_student', 'code_module'], as_index = False).agg({'date_submitted':'mean'})\n",
    "\n",
    "# найдем F - завершаемость курсов\n",
    "\n",
    "# кол-во успешных экзаменов\n",
    "F_success = successful_exam.groupby(['id_student'], as_index = False).agg({'final_score':'count'})\n",
    "F_success = F_success.rename(columns = {'final_score':'successed_students'})\n",
    "\n",
    "# кол-во всех попыток сдать экзамен\n",
    "F_all = all_courses_exam.groupby(['id_student'], as_index = False).agg({'final_score':'count'})\n",
    "F_all = F_all.rename(columns = {'final_score':'all_students'})\n",
    "\n",
    "\n",
    "F = F_success.merge(F_all, how='left', on=['id_student'])\n",
    "F ['successfully_completed_courses'] = round((F.successed_students * 100 / F.all_students), 2)\n",
    "\n",
    "# найдем M - среднее количество баллов, получаемое за экзамен\n",
    "M = successful_exam.groupby(['id_student'], as_index = False).agg({'score':'mean'})"
   ]
  },
  {
   "cell_type": "code",
   "execution_count": 26,
   "metadata": {},
   "outputs": [
    {
     "data": {
      "text/html": [
       "<div>\n",
       "<style scoped>\n",
       "    .dataframe tbody tr th:only-of-type {\n",
       "        vertical-align: middle;\n",
       "    }\n",
       "\n",
       "    .dataframe tbody tr th {\n",
       "        vertical-align: top;\n",
       "    }\n",
       "\n",
       "    .dataframe thead th {\n",
       "        text-align: right;\n",
       "    }\n",
       "</style>\n",
       "<table border=\"1\" class=\"dataframe\">\n",
       "  <thead>\n",
       "    <tr style=\"text-align: right;\">\n",
       "      <th></th>\n",
       "      <th>id_student</th>\n",
       "      <th>recency</th>\n",
       "      <th>successed_students</th>\n",
       "      <th>all_students</th>\n",
       "      <th>frequency</th>\n",
       "      <th>monetary</th>\n",
       "    </tr>\n",
       "  </thead>\n",
       "  <tbody>\n",
       "    <tr>\n",
       "      <th>count</th>\n",
       "      <td>1.421300e+04</td>\n",
       "      <td>14213.000000</td>\n",
       "      <td>14213.000000</td>\n",
       "      <td>14213.000000</td>\n",
       "      <td>14213.000000</td>\n",
       "      <td>14213.000000</td>\n",
       "    </tr>\n",
       "    <tr>\n",
       "      <th>mean</th>\n",
       "      <td>7.167202e+05</td>\n",
       "      <td>197.272145</td>\n",
       "      <td>1.401675</td>\n",
       "      <td>1.449166</td>\n",
       "      <td>97.987224</td>\n",
       "      <td>76.456624</td>\n",
       "    </tr>\n",
       "    <tr>\n",
       "      <th>std</th>\n",
       "      <td>5.653177e+05</td>\n",
       "      <td>26.274006</td>\n",
       "      <td>0.638382</td>\n",
       "      <td>0.673914</td>\n",
       "      <td>9.429085</td>\n",
       "      <td>14.498087</td>\n",
       "    </tr>\n",
       "    <tr>\n",
       "      <th>min</th>\n",
       "      <td>6.516000e+03</td>\n",
       "      <td>-1.000000</td>\n",
       "      <td>1.000000</td>\n",
       "      <td>1.000000</td>\n",
       "      <td>25.000000</td>\n",
       "      <td>41.000000</td>\n",
       "    </tr>\n",
       "    <tr>\n",
       "      <th>25%</th>\n",
       "      <td>5.058710e+05</td>\n",
       "      <td>172.000000</td>\n",
       "      <td>1.000000</td>\n",
       "      <td>1.000000</td>\n",
       "      <td>100.000000</td>\n",
       "      <td>66.000000</td>\n",
       "    </tr>\n",
       "    <tr>\n",
       "      <th>50%</th>\n",
       "      <td>5.882030e+05</td>\n",
       "      <td>198.000000</td>\n",
       "      <td>1.000000</td>\n",
       "      <td>1.000000</td>\n",
       "      <td>100.000000</td>\n",
       "      <td>78.000000</td>\n",
       "    </tr>\n",
       "    <tr>\n",
       "      <th>75%</th>\n",
       "      <td>6.459390e+05</td>\n",
       "      <td>216.000000</td>\n",
       "      <td>2.000000</td>\n",
       "      <td>2.000000</td>\n",
       "      <td>100.000000</td>\n",
       "      <td>88.000000</td>\n",
       "    </tr>\n",
       "    <tr>\n",
       "      <th>max</th>\n",
       "      <td>2.698588e+06</td>\n",
       "      <td>255.000000</td>\n",
       "      <td>4.000000</td>\n",
       "      <td>4.000000</td>\n",
       "      <td>100.000000</td>\n",
       "      <td>100.000000</td>\n",
       "    </tr>\n",
       "  </tbody>\n",
       "</table>\n",
       "</div>"
      ],
      "text/plain": [
       "         id_student       recency  successed_students  all_students  \\\n",
       "count  1.421300e+04  14213.000000        14213.000000  14213.000000   \n",
       "mean   7.167202e+05    197.272145            1.401675      1.449166   \n",
       "std    5.653177e+05     26.274006            0.638382      0.673914   \n",
       "min    6.516000e+03     -1.000000            1.000000      1.000000   \n",
       "25%    5.058710e+05    172.000000            1.000000      1.000000   \n",
       "50%    5.882030e+05    198.000000            1.000000      1.000000   \n",
       "75%    6.459390e+05    216.000000            2.000000      2.000000   \n",
       "max    2.698588e+06    255.000000            4.000000      4.000000   \n",
       "\n",
       "          frequency      monetary  \n",
       "count  14213.000000  14213.000000  \n",
       "mean      97.987224     76.456624  \n",
       "std        9.429085     14.498087  \n",
       "min       25.000000     41.000000  \n",
       "25%      100.000000     66.000000  \n",
       "50%      100.000000     78.000000  \n",
       "75%      100.000000     88.000000  \n",
       "max      100.000000    100.000000  "
      ]
     },
     "execution_count": 26,
     "metadata": {},
     "output_type": "execute_result"
    }
   ],
   "source": [
    "RF = R.merge(F, how='left', on=['id_student'])\n",
    "RFM = RF.merge(M, how='left', on=['id_student'])\n",
    "RFM = RFM.rename(columns = {'date_submitted':'recency', 'successfully_completed_courses':'frequency', 'score':'monetary'})\n",
    "RFM.describe()"
   ]
  },
  {
   "cell_type": "markdown",
   "metadata": {},
   "source": [
    "В recency и monetary данные распределены равномерно по кватилям, поэтому при их расчете будем использовать  0.2, 0.4, 0.6 и 0.8 квантили\n",
    "\n",
    "В frequency же данные распределены неравномерно по кватилям (так, и 75, и 25 кватилю соответствует значение 100)\n",
    "\n",
    "Поэтому в данном случае расчет будет производиться по 0.000001, 0.001, 0.01, 0.1 квантилям"
   ]
  },
  {
   "cell_type": "code",
   "execution_count": 27,
   "metadata": {},
   "outputs": [],
   "source": [
    "quintiles_R_M = RFM[['recency', 'monetary']].quantile([.2, .4, .6, .8]).to_dict()\n",
    "quintiles_F = RFM[[ 'frequency']].quantile([0.000001, 0.001, 0.01, 0.1]).to_dict()"
   ]
  },
  {
   "cell_type": "code",
   "execution_count": 28,
   "metadata": {},
   "outputs": [],
   "source": [
    "def r_score(x):\n",
    "    if x <= quintiles_R_M['recency'][.2]:\n",
    "        return 5\n",
    "    elif x <= quintiles_R_M['recency'][.4]:\n",
    "        return 4\n",
    "    elif x <= quintiles_R_M['recency'][.6]:\n",
    "        return 3\n",
    "    elif x <= quintiles_R_M['recency'][.8]:\n",
    "        return 2\n",
    "    else:\n",
    "        return 1\n",
    "\n",
    "def m_score(x):\n",
    "    if x <= quintiles_R_M['monetary'][.2]:\n",
    "        return 1\n",
    "    elif x <= quintiles_R_M['monetary'][.4]:\n",
    "        return 2\n",
    "    elif x <= quintiles_R_M['monetary'][.6]:\n",
    "        return 3\n",
    "    elif x <= quintiles_R_M['monetary'][.8]:\n",
    "        return 4\n",
    "    else:\n",
    "        return 5\n",
    "    \n",
    "def f_score(x):\n",
    "    if x <= quintiles_F['frequency'][.000001]:\n",
    "        return 2\n",
    "    elif x <= quintiles_F['frequency'][.001]:\n",
    "        return 3\n",
    "    elif x <= quintiles_F['frequency'][.01]:\n",
    "        return 4\n",
    "    else:\n",
    "        return 5 "
   ]
  },
  {
   "cell_type": "code",
   "execution_count": 29,
   "metadata": {},
   "outputs": [],
   "source": [
    "RFM['R'] = RFM['recency'].apply(lambda x: r_score(x))\n",
    "RFM['F'] = RFM['frequency'].apply(lambda x: f_score(x))\n",
    "RFM['M'] = RFM['monetary'].apply(lambda x: m_score(x))\n",
    "RFM['RFM_score'] = RFM['R'].map(str) + RFM['F'].map(str) + RFM['M'].map(str)\n",
    "RFM = RFM[['id_student', 'recency', 'frequency', 'monetary', 'RFM_score']]"
   ]
  },
  {
   "cell_type": "markdown",
   "metadata": {},
   "source": [
    "Разделим каждый из сегментов на критерии. Так как общая завершаемость довольно высокая (у большинства студентов равняется 100%), не будем учитывать F сегмент\n",
    "\n",
    "Для - R - среднего времени сдачи одного экзамена\n",
    "4-5 - Торопящиеся\n",
    "3 - Успевающие\n",
    "1-2 - Неуспевающие\n",
    "\n",
    "Для - M - среднего количества баллов, получаемого за экзамен\n",
    "5 - Отличники\n",
    "3-4 - Хорошисты\n",
    "1-2 - Слабые студенты"
   ]
  },
  {
   "cell_type": "code",
   "execution_count": 31,
   "metadata": {},
   "outputs": [],
   "source": [
    "segt_map = {\n",
    "    r'[1-2][1-5][1-2]': 'Неуспевающие слабые студенты',\n",
    "    r'[1-2][1-5][3-4]': 'Неуспевающие хорошисты',\n",
    "    r'[1-2][1-5][5]': 'Неуспевающие отличники',\n",
    "    r'[3][1-5][1-2]': 'Успевающие слабые студенты',\n",
    "    r'[3][1-5][3-4]': 'Успевающие хорошисты',\n",
    "    r'[3][1-5][5]': 'Успевающие отличники',\n",
    "    r'[4-5][1-5][1-2]': 'Торопящиеся слабые студенты',\n",
    "    r'[4-5][1-5][3-4]': 'Торопящиеся хорошисты',\n",
    "    r'[4-5][1-5][5]': 'Торопящиеся отличники'\n",
    "}\n",
    "\n",
    "RFM ['segment'] = RFM['RFM_score'].replace(segt_map, regex=True)"
   ]
  },
  {
   "cell_type": "code",
   "execution_count": 32,
   "metadata": {},
   "outputs": [],
   "source": [
    "RFM_count = RFM.groupby('segment').agg({'id_student':'count'}).reset_index().sort_values('id_student', ascending = False)\n",
    "RFM_count = RFM_count.rename(columns = {'id_student':'amount_of_students'})\n",
    "RFM_count ['overall_amount_of_students'] = RFM_count.amount_of_students.sum()\n",
    "RFM_count ['%'] = RFM_count.amount_of_students * 100 / RFM_count.overall_amount_of_students"
   ]
  },
  {
   "cell_type": "code",
   "execution_count": 33,
   "metadata": {},
   "outputs": [
    {
     "data": {
      "text/plain": [
       "Text(0, 0.5, 'Процент студентов')"
      ]
     },
     "execution_count": 33,
     "metadata": {},
     "output_type": "execute_result"
    },
    {
     "data": {
      "image/png": "[encoded data removed]",
      "text/plain": [
       "<Figure size 1440x504 with 1 Axes>"
      ]
     },
     "metadata": {},
     "output_type": "display_data"
    }
   ],
   "source": [
    "ax = sns.barplot(data=RFM_count, x=\"segment\", y=\"%\")\n",
    "ax.set_xticklabels(RFM_count.segment, rotation=90)\n",
    "plt.title('Критерии')\n",
    "plt.xlabel('Сегменты')\n",
    "plt.ylabel('Процент студентов')"
   ]
  },
  {
   "cell_type": "markdown",
   "metadata": {},
   "source": [
    "# Вывод\n",
    "Наибольшую часть (~ 38 %) составляют неуспевающие слабые студенты и торопящиеся хорошисты\n",
    "Второе место (~ 26 %) делят студенты из категорий 'Торопящиеся слабые студенты' и 'Неуспевающие хорошисты'\n",
    "Таким образом, большая половина студентов (~ 64 %), сдающих экзамены либо не успевают, либо торопятся. \n",
    "При этом по итоговым оценкам это либо слабые студенты, либо средние (хорошисты)\n",
    "В свою очередь, отличники всех трех типов составляют ~ 20 % от общей массы\n",
    "Оставшиеся ~ 16 % составляют успевающие хорошисты и слабые студенты"
   ]
  }
 ],
 "metadata": {
  "kernelspec": {
   "display_name": "Python 3",
   "language": "python",
   "name": "python3"
  },
  "language_info": {
   "codemirror_mode": {
    "name": "ipython",
    "version": 3
   },
   "file_extension": ".py",
   "mimetype": "text/x-python",
   "name": "python",
   "nbconvert_exporter": "python",
   "pygments_lexer": "ipython3",
   "version": "3.7.3"
  }
 },
 "nbformat": 4,
 "nbformat_minor": 4
}
